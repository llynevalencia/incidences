{
 "cells": [
  {
   "cell_type": "code",
   "execution_count": null,
   "metadata": {},
   "outputs": [],
   "source": [
    "import os\n",
    "import pandas as pd\n"
   ]
  },
  {
   "cell_type": "markdown",
   "metadata": {},
   "source": [
    "<h3>Path</h3>"
   ]
  },
  {
   "cell_type": "code",
   "execution_count": null,
   "metadata": {},
   "outputs": [],
   "source": [
    "df19 = pd.read_csv('raw_data/download.csv')\n",
    "df20 = pd.read_csv('raw_data/download (1).csv')\n",
    "df21 = pd.read_csv('raw_data/download (2).csv')\n",
    "df22 = pd.read_csv('raw_data/download (3).csv')\n",
    "df23 = pd.read_csv('raw_data/download (4).csv')\n"
   ]
  },
  {
   "cell_type": "markdown",
   "metadata": {},
   "source": [
    "<h3>Data Understanding</h3>"
   ]
  },
  {
   "cell_type": "code",
   "execution_count": null,
   "metadata": {},
   "outputs": [],
   "source": [
    "\n",
    "print('2019:',df19.shape)\n",
    "print('2020:',df20.shape)\n",
    "print('2020:',df21.shape)\n",
    "print('2021:',df22.shape)\n",
    "print('2022:',df23.shape)\n"
   ]
  },
  {
   "cell_type": "code",
   "execution_count": null,
   "metadata": {},
   "outputs": [],
   "source": [
    "df19.head(20)\n"
   ]
  },
  {
   "cell_type": "code",
   "execution_count": null,
   "metadata": {},
   "outputs": [],
   "source": [
    "print('2019:',df19.columns)\n",
    "print('2020:',df20.columns)\n",
    "print('2021:',df21.columns)\n",
    "print('2022:',df22.columns)\n",
    "print('2023:',df23.columns)\n"
   ]
  },
  {
   "cell_type": "markdown",
   "metadata": {},
   "source": [
    "<h4>Data Type</h4>\n",
    "<p>Taking a look into the data type from our raw files</p>"
   ]
  },
  {
   "cell_type": "code",
   "execution_count": null,
   "metadata": {},
   "outputs": [],
   "source": [
    "\n",
    "print('2019:','\\n', df19.dtypes)\n",
    "print()\n",
    "print('2020:','\\n', df20.dtypes)\n",
    "print()\n",
    "print('2021:','\\n', df21.dtypes)\n",
    "print()\n",
    "print('2022:','\\n', df22.dtypes)\n",
    "print()\n",
    "print('2023:','\\n', df23.dtypes)\n"
   ]
  },
  {
   "cell_type": "code",
   "execution_count": null,
   "metadata": {},
   "outputs": [],
   "source": [
    "print('ALL DATA')\n",
    "print(df19.describe() + df20.describe() + df21.describe() + df22.describe() + df23.describe())\n"
   ]
  },
  {
   "cell_type": "markdown",
   "metadata": {},
   "source": [
    "<h2>Data Preparation</h2>"
   ]
  },
  {
   "cell_type": "markdown",
   "metadata": {},
   "source": [
    "<h3>Try Except</h3>\n",
    "<p>Catching some errors</p>"
   ]
  },
  {
   "cell_type": "code",
   "execution_count": null,
   "metadata": {},
   "outputs": [],
   "source": [
    "col_int = ['Codi_districte', 'Codi_barri', 'NK_Any', 'Mes_any', 'Numero_incidents_GUB']\n",
    "\n",
    "for col_i in col_int:\n",
    "    try:\n",
    "        df19[col_i] = df19[col_i].astype('int64')\n",
    "    except ValueError as e:\n",
    "        print(f\"Error '{col_i}' in df19: {e}\")\n",
    "\n",
    "    # try:\n",
    "    #     df20[col_i] = df20[col_i].astype('Int64')\n",
    "    # except ValueError as e:\n",
    "    #     print(f\"Error '{col_i}' in df20: {e}\")\n",
    "\n",
    "    # try:\n",
    "    #     df21[col_i] = df21[col_i].astype('Int64')\n",
    "    # except ValueError as e:\n",
    "    #     print(f\"Error '{col_i}' in df21: {e}\")\n",
    "\n",
    "    # try:\n",
    "    #     df22[col_i] = df22[col_i].astype('Int64')\n",
    "    # except ValueError as e:\n",
    "    #     print(f\"Error '{col_i}' in df22: {e}\")\n",
    "\n",
    "    # try:\n",
    "    #     df23[col_i] = df23[col_i].astype('Int64')\n",
    "    # except ValueError as e:\n",
    "    #     print(f\"Error '{col_i}' in df23: {e}\")\n",
    "\n",
    "\n",
    "\n",
    "# df19c['Mes_any'] = pd.to_numeric(df19c['Mes_any'], errors='coerce')\n",
    "\n",
    "# # Fill NaN values with a default value (e.g., 0)\n",
    "# df19c['Mes_any'].fillna(0)\n",
    "\n",
    "# # Convert \"Mes_any\" to int64\n",
    "# df19c['Mes_any'] = df19c['Mes_any'].astype('int64')\n"
   ]
  },
  {
   "cell_type": "code",
   "execution_count": null,
   "metadata": {},
   "outputs": [],
   "source": [
    "df19['Mes_any'] = pd.to_numeric(df19['Mes_any'], errors='coerce').fillna(0).astype('int64')\n",
    "df19['Codi_districte'] = df19['Codi_districte'].fillna(0).astype('int64')\n",
    "df19['NK_Any'] = df19['NK_Any'].fillna(0).astype('int64')\n",
    "df19['Numero_incidents_GUB'] = df19['Numero_incidents_GUB'].fillna(0).astype('int64')\n",
    "\n",
    "print(df19.dtypes)\n"
   ]
  },
  {
   "cell_type": "code",
   "execution_count": null,
   "metadata": {},
   "outputs": [],
   "source": [
    "# error19_1 = df19[df19.eq('21B').any(axis=1)]\n",
    "# error19_2 = df19[df19.eq('11:23:59 AM').any(axis=1)]\n",
    "# error20 = df20[df20.eq('21M').any(axis=1)]\n",
    "# error21 = df21[df21.eq('21M').any(axis=1)]\n",
    "# error22 = df22[df22.eq('21M').any(axis=1)]\n",
    "# error23 = df23[df23.eq('21M').any(axis=1)]\n",
    "\n",
    "# error19_1\n",
    "# error19_2\n",
    "# error20\n",
    "# error21\n",
    "# error22\n",
    "# error23\n"
   ]
  },
  {
   "cell_type": "markdown",
   "metadata": {},
   "source": [
    "<p>21B = 99990 <br> 21M = 99991 <br> Droping col 33855 from df19</p>"
   ]
  },
  {
   "cell_type": "code",
   "execution_count": null,
   "metadata": {},
   "outputs": [],
   "source": [
    "# df19.iloc[13687].replace({'21B': 99990})\n",
    "# # df19.drop(index=33855, inplace=True)\n",
    "\n",
    "# df20.iloc[14205].replace({'21M': 99991})\n",
    "\n",
    "# df21.iloc[1125].replace({'21M': 99991})\n",
    "# df21.iloc[18057].replace({'21M': 99991})\n",
    "# df21.iloc[24280].replace({'21M': 99991})\n",
    "\n",
    "# df22.iloc[10912].replace({'21M': 99991})\n",
    "# df22.iloc[10914].replace({'21M': 99991})\n",
    "# df22.iloc[21170].replace({'21M': 99991})\n",
    "# df22.iloc[27944].replace({'21M': 99991})\n",
    "\n",
    "# print(df23.iloc[18223].replace({'21M': 99991}),\n",
    "# df23.iloc[31895].replace({'21M': 99991}))\n"
   ]
  },
  {
   "cell_type": "code",
   "execution_count": null,
   "metadata": {},
   "outputs": [],
   "source": [
    "# df19[col_i] = pd.to_numeric(df20[col_i], errors='coerce').astype('Int64').fillna(0)\n",
    "# df20[col_i] = pd.to_numeric(df20[col_i], errors='coerce').astype('Int64').fillna(0)\n",
    "# df21[col_i] = pd.to_numeric(df21[col_i], errors='coerce').astype('Int64').fillna(0)\n",
    "# df22[col_i] = pd.to_numeric(df22[col_i], errors='coerce').astype('Int64').fillna(0)\n",
    "# df23[col_i] = pd.to_numeric(df23[col_i], errors='coerce').astype('Int64').fillna(0)\n"
   ]
  },
  {
   "cell_type": "code",
   "execution_count": null,
   "metadata": {},
   "outputs": [],
   "source": [
    "# col_str = ['Descripcio_Incident', 'Nom_districte', 'Nom_barri', 'Nom_mes']\n",
    "\n",
    "# for col_s in col_str :\n",
    "#     df19[col_s] = df19[col_s].astype('object').fillna('0')\n",
    "#     df20[col_s] = df20[col_s].astype('object').fillna('0')\n",
    "#     df21[col_s] = df21[col_s].astype('object').fillna('0')\n",
    "#     df22[col_s] = df22[col_s].astype('object').fillna('0')\n",
    "#     df23[col_s] = df23[col_s].astype('object').fillna('0')\n"
   ]
  },
  {
   "cell_type": "code",
   "execution_count": 111,
   "metadata": {},
   "outputs": [
    {
     "data": {
      "text/html": [
       "<div>\n",
       "<style scoped>\n",
       "    .dataframe tbody tr th:only-of-type {\n",
       "        vertical-align: middle;\n",
       "    }\n",
       "\n",
       "    .dataframe tbody tr th {\n",
       "        vertical-align: top;\n",
       "    }\n",
       "\n",
       "    .dataframe thead th {\n",
       "        text-align: right;\n",
       "    }\n",
       "</style>\n",
       "<table border=\"1\" class=\"dataframe\">\n",
       "  <thead>\n",
       "    <tr style=\"text-align: right;\">\n",
       "      <th></th>\n",
       "      <th>Codi_Incident</th>\n",
       "      <th>Descripcio_Incident</th>\n",
       "      <th>Codi_districte</th>\n",
       "      <th>Nom_districte</th>\n",
       "      <th>Codi_barri</th>\n",
       "      <th>Nom_barri</th>\n",
       "      <th>NK_Any</th>\n",
       "      <th>Mes_any</th>\n",
       "      <th>Nom_mes</th>\n",
       "      <th>Numero_incidents_GUB</th>\n",
       "    </tr>\n",
       "  </thead>\n",
       "  <tbody>\n",
       "    <tr>\n",
       "      <th>0</th>\n",
       "      <td>410</td>\n",
       "      <td>ACTIVITATS MOLESTES EN ESPAIS PÚBLICS         ...</td>\n",
       "      <td>6</td>\n",
       "      <td>Gràcia</td>\n",
       "      <td>31</td>\n",
       "      <td>la Vila de Gràcia</td>\n",
       "      <td>2019</td>\n",
       "      <td>1</td>\n",
       "      <td>Gener</td>\n",
       "      <td>85</td>\n",
       "    </tr>\n",
       "    <tr>\n",
       "      <th>1</th>\n",
       "      <td>210</td>\n",
       "      <td>ACCIDENTS DE TRÀNSIT SENSE FERITS             ...</td>\n",
       "      <td>10</td>\n",
       "      <td>Sant Martí</td>\n",
       "      <td>73</td>\n",
       "      <td>la Verneda i la Pau</td>\n",
       "      <td>2019</td>\n",
       "      <td>4</td>\n",
       "      <td>Abril</td>\n",
       "      <td>4</td>\n",
       "    </tr>\n",
       "    <tr>\n",
       "      <th>2</th>\n",
       "      <td>200</td>\n",
       "      <td>INCIDÈNCIES AMB AFECTACIÓ DE VIA              ...</td>\n",
       "      <td>2</td>\n",
       "      <td>Eixample</td>\n",
       "      <td>9</td>\n",
       "      <td>la Nova Esquerra de l'Eixample</td>\n",
       "      <td>2019</td>\n",
       "      <td>4</td>\n",
       "      <td>Abril</td>\n",
       "      <td>12</td>\n",
       "    </tr>\n",
       "    <tr>\n",
       "      <th>3</th>\n",
       "      <td>400</td>\n",
       "      <td>CONVIVÈNCIA VEINAL                            ...</td>\n",
       "      <td>6</td>\n",
       "      <td>Gràcia</td>\n",
       "      <td>31</td>\n",
       "      <td>la Vila de Gràcia</td>\n",
       "      <td>2019</td>\n",
       "      <td>4</td>\n",
       "      <td>Abril</td>\n",
       "      <td>105</td>\n",
       "    </tr>\n",
       "    <tr>\n",
       "      <th>4</th>\n",
       "      <td>670</td>\n",
       "      <td>AGRESSIONS                                    ...</td>\n",
       "      <td>1</td>\n",
       "      <td>Ciutat Vella</td>\n",
       "      <td>3</td>\n",
       "      <td>la Barceloneta</td>\n",
       "      <td>2019</td>\n",
       "      <td>1</td>\n",
       "      <td>Gener</td>\n",
       "      <td>12</td>\n",
       "    </tr>\n",
       "  </tbody>\n",
       "</table>\n",
       "</div>"
      ],
      "text/plain": [
       "  Codi_Incident                                Descripcio_Incident  \\\n",
       "0           410  ACTIVITATS MOLESTES EN ESPAIS PÚBLICS         ...   \n",
       "1           210  ACCIDENTS DE TRÀNSIT SENSE FERITS             ...   \n",
       "2           200  INCIDÈNCIES AMB AFECTACIÓ DE VIA              ...   \n",
       "3           400  CONVIVÈNCIA VEINAL                            ...   \n",
       "4           670  AGRESSIONS                                    ...   \n",
       "\n",
       "   Codi_districte Nom_districte  Codi_barri                       Nom_barri  \\\n",
       "0               6        Gràcia          31               la Vila de Gràcia   \n",
       "1              10    Sant Martí          73             la Verneda i la Pau   \n",
       "2               2      Eixample           9  la Nova Esquerra de l'Eixample   \n",
       "3               6        Gràcia          31               la Vila de Gràcia   \n",
       "4               1  Ciutat Vella           3                  la Barceloneta   \n",
       "\n",
       "   NK_Any  Mes_any Nom_mes  Numero_incidents_GUB  \n",
       "0    2019        1   Gener                    85  \n",
       "1    2019        4   Abril                     4  \n",
       "2    2019        4   Abril                    12  \n",
       "3    2019        4   Abril                   105  \n",
       "4    2019        1   Gener                    12  "
      ]
     },
     "execution_count": 111,
     "metadata": {},
     "output_type": "execute_result"
    }
   ],
   "source": [
    "df19.head()\n"
   ]
  },
  {
   "cell_type": "markdown",
   "metadata": {},
   "source": [
    "<h3>Mergin Files</h3>"
   ]
  },
  {
   "cell_type": "code",
   "execution_count": null,
   "metadata": {},
   "outputs": [],
   "source": [
    "all_dfs = pd.concat([df19, df20, df21, df22, df23], ignore_index=True)\n",
    "\n",
    "output_dir = 'output_data'\n",
    "output_file = os.path.join(output_dir, 'allrawdata.csv')\n",
    "\n",
    "all_dfs.to_csv(output_file, index=True)\n"
   ]
  },
  {
   "cell_type": "code",
   "execution_count": null,
   "metadata": {},
   "outputs": [],
   "source": [
    "df = all_dfs.copy()\n",
    "df.reset_index(drop=True)\n",
    "df.head()\n"
   ]
  },
  {
   "cell_type": "markdown",
   "metadata": {},
   "source": [
    "<h2>Data Cleaning</h2>"
   ]
  },
  {
   "cell_type": "code",
   "execution_count": null,
   "metadata": {},
   "outputs": [],
   "source": [
    "print(df.shape)\n",
    "df.dtypes\n"
   ]
  },
  {
   "cell_type": "code",
   "execution_count": null,
   "metadata": {},
   "outputs": [],
   "source": [
    "# df['Mes_any'] = df['Mes_any'].replace('99999', 99999)\n",
    "\n",
    "# # Remove non-numeric characters\n",
    "# df['Mes_any'] = df['Mes_any'].str.replace('[^0-9]', '', regex=True)\n",
    "\n",
    "# # Convert to numeric\n",
    "# df['Mes_any'] = pd.to_numeric(df['Mes_any'], errors='coerce')\n",
    "\n",
    "# # Fill NaN values with 0\n",
    "# df['Mes_any'].fillna(0, inplace=True)\n",
    "\n",
    "# # Convert to int64\n",
    "# df['Mes_any'] = df['Mes_any'].astype('int64')\n",
    "\n",
    "# # Print the data types of the DataFrame\n",
    "# print(df.dtypes)\n"
   ]
  },
  {
   "cell_type": "code",
   "execution_count": null,
   "metadata": {},
   "outputs": [],
   "source": [
    "df.head()\n"
   ]
  },
  {
   "cell_type": "code",
   "execution_count": null,
   "metadata": {},
   "outputs": [],
   "source": [
    "col_rename = {\n",
    "    'Codi_Incident': 'c_incident',\n",
    "    'Codi_districte': 'c_district',\n",
    "    'Codi_barri': 'c_hood',\n",
    "    'NK_Any': 'year',\n",
    "    'Mes_any': 'month#',\n",
    "    'Numero_incidents_GUB': 'incident_amount',\n",
    "    'Descripcio_Incident': 'incident_type',\n",
    "    'Nom_districte': 'district',\n",
    "    'Nom_barri': 'hood',\n",
    "    'Nom_mes': 'month'\n",
    "}\n",
    "\n",
    "df.rename(columns=col_rename, inplace=True)\n",
    "\n"
   ]
  },
  {
   "cell_type": "code",
   "execution_count": null,
   "metadata": {},
   "outputs": [],
   "source": [
    "column_uq_value = ['incident_type', 'hood', 'district', 'month']\n",
    "\n",
    "for col in column_uq_value:\n",
    "    uq_value = df[col].unique()\n",
    "    df_uq_value = pd.DataFrame(uq_value, columns=[col])\n",
    "    output_file = f'output_data/uq_{col}.csv'\n",
    "    df_uq_value.index += 1\n",
    "    df_uq_value.to_csv(output_file, index=False, header=False)\n"
   ]
  },
  {
   "cell_type": "code",
   "execution_count": null,
   "metadata": {},
   "outputs": [],
   "source": [
    "import json\n",
    "\n",
    "with open('catalan.json', 'r') as file:\n",
    "    translations = json.load(file)\n",
    "\n",
    "for column in df.columns:\n",
    "    if column in translations:\n",
    "        df[column].replace(translations[column], inplace = True)\n",
    "\n",
    "print(df)\n"
   ]
  },
  {
   "cell_type": "markdown",
   "metadata": {},
   "source": [
    "<h2>Analyzing the Data</h2>"
   ]
  },
  {
   "cell_type": "markdown",
   "metadata": {},
   "source": [
    "\n",
    "<h3>Export df to csv</h3>"
   ]
  },
  {
   "cell_type": "code",
   "execution_count": null,
   "metadata": {},
   "outputs": [],
   "source": [
    "clean_dir = 'clean_data'\n",
    "\n",
    "output_file = os.path.join(clean_dir, 'bcn_clean_data.csv')\n",
    "\n",
    "df.to_csv(output_file, index=True)\n"
   ]
  },
  {
   "cell_type": "markdown",
   "metadata": {},
   "source": [
    "<h4>Getting coordenates for Map in Tableau</h4>"
   ]
  },
  {
   "cell_type": "code",
   "execution_count": 148,
   "metadata": {},
   "outputs": [
    {
     "data": {
      "text/html": [
       "<div>\n",
       "<style scoped>\n",
       "    .dataframe tbody tr th:only-of-type {\n",
       "        vertical-align: middle;\n",
       "    }\n",
       "\n",
       "    .dataframe tbody tr th {\n",
       "        vertical-align: top;\n",
       "    }\n",
       "\n",
       "    .dataframe thead th {\n",
       "        text-align: right;\n",
       "    }\n",
       "</style>\n",
       "<table border=\"1\" class=\"dataframe\">\n",
       "  <thead>\n",
       "    <tr style=\"text-align: right;\">\n",
       "      <th></th>\n",
       "      <th>country</th>\n",
       "      <th>state</th>\n",
       "      <th>city</th>\n",
       "      <th>district</th>\n",
       "      <th>latitude</th>\n",
       "      <th>longitude</th>\n",
       "    </tr>\n",
       "  </thead>\n",
       "  <tbody>\n",
       "    <tr>\n",
       "      <th>0</th>\n",
       "      <td>Spain</td>\n",
       "      <td>Catalonia</td>\n",
       "      <td>Barcelona</td>\n",
       "      <td>Gracia</td>\n",
       "      <td>41.406577</td>\n",
       "      <td>2.158281</td>\n",
       "    </tr>\n",
       "    <tr>\n",
       "      <th>1</th>\n",
       "      <td>Spain</td>\n",
       "      <td>Catalonia</td>\n",
       "      <td>Barcelona</td>\n",
       "      <td>Sant Martí</td>\n",
       "      <td>41.408410</td>\n",
       "      <td>2.203189</td>\n",
       "    </tr>\n",
       "    <tr>\n",
       "      <th>2</th>\n",
       "      <td>Spain</td>\n",
       "      <td>Catalonia</td>\n",
       "      <td>Barcelona</td>\n",
       "      <td>Eixample</td>\n",
       "      <td>41.393689</td>\n",
       "      <td>2.163655</td>\n",
       "    </tr>\n",
       "    <tr>\n",
       "      <th>3</th>\n",
       "      <td>Spain</td>\n",
       "      <td>Catalonia</td>\n",
       "      <td>Barcelona</td>\n",
       "      <td>Ciutat Vella</td>\n",
       "      <td>41.381979</td>\n",
       "      <td>2.180415</td>\n",
       "    </tr>\n",
       "    <tr>\n",
       "      <th>4</th>\n",
       "      <td>Spain</td>\n",
       "      <td>Catalonia</td>\n",
       "      <td>Barcelona</td>\n",
       "      <td>Sants - Montjuic</td>\n",
       "      <td>41.369461</td>\n",
       "      <td>2.144185</td>\n",
       "    </tr>\n",
       "    <tr>\n",
       "      <th>5</th>\n",
       "      <td>Spain</td>\n",
       "      <td>Catalonia</td>\n",
       "      <td>Barcelona</td>\n",
       "      <td>Nou Barris</td>\n",
       "      <td>41.445815</td>\n",
       "      <td>2.179801</td>\n",
       "    </tr>\n",
       "    <tr>\n",
       "      <th>6</th>\n",
       "      <td>Spain</td>\n",
       "      <td>Catalonia</td>\n",
       "      <td>Barcelona</td>\n",
       "      <td>Sant Andreu</td>\n",
       "      <td>41.437250</td>\n",
       "      <td>2.195487</td>\n",
       "    </tr>\n",
       "    <tr>\n",
       "      <th>7</th>\n",
       "      <td>Spain</td>\n",
       "      <td>Catalonia</td>\n",
       "      <td>Barcelona</td>\n",
       "      <td>Sarria - Sant Gervasi</td>\n",
       "      <td>41.401617</td>\n",
       "      <td>2.129857</td>\n",
       "    </tr>\n",
       "    <tr>\n",
       "      <th>8</th>\n",
       "      <td>Spain</td>\n",
       "      <td>Catalonia</td>\n",
       "      <td>Barcelona</td>\n",
       "      <td>Horta-Guinardó</td>\n",
       "      <td>41.428965</td>\n",
       "      <td>2.150619</td>\n",
       "    </tr>\n",
       "    <tr>\n",
       "      <th>9</th>\n",
       "      <td>Spain</td>\n",
       "      <td>Catalonia</td>\n",
       "      <td>Barcelona</td>\n",
       "      <td>Les Corts</td>\n",
       "      <td>41.385244</td>\n",
       "      <td>2.132863</td>\n",
       "    </tr>\n",
       "    <tr>\n",
       "      <th>10</th>\n",
       "      <td>Spain</td>\n",
       "      <td>Catalonia</td>\n",
       "      <td>Barcelona</td>\n",
       "      <td>Unknown (need recoding)</td>\n",
       "      <td>NaN</td>\n",
       "      <td>NaN</td>\n",
       "    </tr>\n",
       "  </tbody>\n",
       "</table>\n",
       "</div>"
      ],
      "text/plain": [
       "   country      state       city                 district   latitude  \\\n",
       "0    Spain  Catalonia  Barcelona                   Gracia  41.406577   \n",
       "1    Spain  Catalonia  Barcelona               Sant Martí  41.408410   \n",
       "2    Spain  Catalonia  Barcelona                 Eixample  41.393689   \n",
       "3    Spain  Catalonia  Barcelona             Ciutat Vella  41.381979   \n",
       "4    Spain  Catalonia  Barcelona         Sants - Montjuic  41.369461   \n",
       "5    Spain  Catalonia  Barcelona               Nou Barris  41.445815   \n",
       "6    Spain  Catalonia  Barcelona              Sant Andreu  41.437250   \n",
       "7    Spain  Catalonia  Barcelona    Sarria - Sant Gervasi  41.401617   \n",
       "8    Spain  Catalonia  Barcelona           Horta-Guinardó  41.428965   \n",
       "9    Spain  Catalonia  Barcelona                Les Corts  41.385244   \n",
       "10   Spain  Catalonia  Barcelona  Unknown (need recoding)        NaN   \n",
       "\n",
       "    longitude  \n",
       "0    2.158281  \n",
       "1    2.203189  \n",
       "2    2.163655  \n",
       "3    2.180415  \n",
       "4    2.144185  \n",
       "5    2.179801  \n",
       "6    2.195487  \n",
       "7    2.129857  \n",
       "8    2.150619  \n",
       "9    2.132863  \n",
       "10        NaN  "
      ]
     },
     "execution_count": 148,
     "metadata": {},
     "output_type": "execute_result"
    }
   ],
   "source": [
    "from geopy.geocoders import Nominatim\n",
    "\n",
    "geolocator = Nominatim(user_agent=\"my_geocoder\")\n",
    "\n",
    "uq_districts = df['district'].unique()\n",
    "\n",
    "country = 'Spain'\n",
    "state = 'Catalonia'\n",
    "city = 'Barcelona'\n",
    "\n",
    "coordinates = []\n",
    "\n",
    "for district in uq_districts:\n",
    "    location = geolocator.geocode(district + \", Barcelona, Spain\")\n",
    "\n",
    "    if location:\n",
    "        latitude = location.latitude\n",
    "        longitude = location.longitude\n",
    "    else:\n",
    "        latitude = None\n",
    "        longitude = None\n",
    "\n",
    "    coordinates.append({'country': country,'state': state,'city': city,'district': district, 'latitude': latitude, 'longitude': longitude})\n",
    "\n",
    "coordinates_district = pd.DataFrame(coordinates)\n",
    "coordinates_district.to_csv('output_data/coordinates_district.csv', index = False)\n",
    "coordinates_district\n"
   ]
  },
  {
   "cell_type": "code",
   "execution_count": 88,
   "metadata": {},
   "outputs": [],
   "source": [
    "# uq_hood = df[['district', 'hood']].drop_duplicates()\n",
    "# uq_hood['city'] = 'Barcelona'\n",
    "# uq_hood['latitude'] = ''\n",
    "# uq_hood['longitude'] = ''\n",
    "\n",
    "# uq_hood.to_csv('output_data/uq_hood_districts.csv', index = False)\n"
   ]
  }
 ],
 "metadata": {
  "kernelspec": {
   "display_name": "Python 3",
   "language": "python",
   "name": "python3"
  },
  "language_info": {
   "codemirror_mode": {
    "name": "ipython",
    "version": 3
   },
   "file_extension": ".py",
   "mimetype": "text/x-python",
   "name": "python",
   "nbconvert_exporter": "python",
   "pygments_lexer": "ipython3",
   "version": "3.11.7"
  }
 },
 "nbformat": 4,
 "nbformat_minor": 2
}
